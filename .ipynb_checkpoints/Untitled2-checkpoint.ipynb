{
 "cells": [
  {
   "cell_type": "code",
   "execution_count": null,
   "id": "f5379d09-ff30-485e-a354-0d5861862873",
   "metadata": {},
   "outputs": [],
   "source": [
    "import plotly.express as px\n",
    "from jupyter_dash import JupyterDash\n",
    "import dash_core_components as dcc\n",
    "import dash_html_components as html\n",
    "import pandas as pd\n",
    "from dash.dependencies import Input, Output# Load Data\n",
    "\n",
    "external_stylesheets = ['https://codepen.io/chriddyp/pen/bWLwgP.css']\n",
    "\n",
    "app = JupyterDash(__name__, external_stylesheets=external_stylesheets)\n",
    "\n",
    "# assume you have a \"long-form\" data frame\n",
    "# see https://plotly.com/python/px-arguments/ for more options\n",
    "df = pd.read_csv('Censo2020/Viviendas19.CSV')\n",
    "\n",
    "fig = px.bar(df, x=\"CLAVIVP\", y=\"JEFE_EDAD\", color=\"\", barmode=\"group\")\n",
    "\n",
    "\n",
    "\n",
    "app.layout = html.Div(children=[\n",
    "    html.H1(children='Gráficas'),\n",
    "\n",
    "    html.Div(children='''\n",
    "        Dash: A web application framework for Python.\n",
    "    '''),\n",
    "    \n",
    "    html.Label('Lista'),\n",
    "        dcc.Dropdown(\n",
    "            options=[\n",
    "                {'label':'Casa única en el terreno', 'value':'1'},\n",
    "                {'label':'Casa que comparte terreno con otra(s)', 'value':'2'},\n",
    "                {'label':'Casa dúplex', 'value':'3'},\n",
    "                {'label':'Departamento en edificio', 'value':'4'},\n",
    "                {'label':'Vivienda en vecindad o cuartería', 'value':'5'},\n",
    "                {'label':'Vivienda en cuarto de azotea de un edificio', 'value':'6'},\n",
    "                {'label':'Local no construido para habitación', 'value':'7'},\n",
    "                {'label':'Vivienda móvil', 'value':'8'},\n",
    "                {'label':'Refugio', 'value':'9'}\n",
    "                \n",
    "                \n",
    "                   \n",
    "            ],\n",
    "            value='MTL'\n",
    "        ),\n",
    "    \n",
    "    dcc.Graph(\n",
    "        id='example-graph',\n",
    "        figure=fig\n",
    "    )\n",
    "])\n",
    "\n",
    "app.run_server(mode='inline')\n"
   ]
  }
 ],
 "metadata": {
  "kernelspec": {
   "display_name": "Python 3",
   "language": "python",
   "name": "python3"
  },
  "language_info": {
   "name": ""
  }
 },
 "nbformat": 4,
 "nbformat_minor": 5
}
